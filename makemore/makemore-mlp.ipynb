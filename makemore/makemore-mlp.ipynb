{
 "cells": [
  {
   "cell_type": "markdown",
   "id": "ccf7702c-df83-4dac-b7a0-71b30da5d739",
   "metadata": {},
   "source": [
    "# Makemore using Multi Layer Processing\n",
    "Now we look at building makemore using an MLP. Remember that makemore is a character level language model. Closely follows the following paper: https://www.jmlr.org/papers/volume3/bengio03a/bengio03a.pdf"
   ]
  },
  {
   "cell_type": "code",
   "execution_count": 2,
   "id": "97e2cc4c-eb4f-45e8-afa4-d54a5bd2f049",
   "metadata": {},
   "outputs": [],
   "source": [
    "import torch\n",
    "import torch.nn.functional as F\n",
    "import matplotlib.pyplot as plt\n",
    "%matplotlib inline"
   ]
  },
  {
   "cell_type": "code",
   "execution_count": 3,
   "id": "111a0f70-c826-4bd0-91a5-fc7d91c6669d",
   "metadata": {},
   "outputs": [
    {
     "data": {
      "text/plain": [
       "['emma', 'olivia', 'ava', 'isabella', 'sophia', 'charlotte', 'mia', 'amelia']"
      ]
     },
     "execution_count": 3,
     "metadata": {},
     "output_type": "execute_result"
    }
   ],
   "source": [
    "# read in all the words\n",
    "words = open('names.txt', 'r').read().splitlines()\n",
    "words[:8]"
   ]
  },
  {
   "cell_type": "code",
   "execution_count": 4,
   "id": "8761fed7-88bf-40f6-990a-56a84d3a24a7",
   "metadata": {},
   "outputs": [
    {
     "data": {
      "text/plain": [
       "32033"
      ]
     },
     "execution_count": 4,
     "metadata": {},
     "output_type": "execute_result"
    }
   ],
   "source": [
    "len(words)"
   ]
  },
  {
   "cell_type": "code",
   "execution_count": 5,
   "id": "b5135528-d998-40f8-9e9c-49577a7c2004",
   "metadata": {},
   "outputs": [
    {
     "name": "stdout",
     "output_type": "stream",
     "text": [
      "{1: 'a', 2: 'b', 3: 'c', 4: 'd', 5: 'e', 6: 'f', 7: 'g', 8: 'h', 9: 'i', 10: 'j', 11: 'k', 12: 'l', 13: 'm', 14: 'n', 15: 'o', 16: 'p', 17: 'q', 18: 'r', 19: 's', 20: 't', 21: 'u', 22: 'v', 23: 'w', 24: 'x', 25: 'y', 26: 'z', 0: '.'}\n"
     ]
    }
   ],
   "source": [
    "# build the vocabulary of characters and mappings to/from integers\n",
    "chars = sorted(list(set(''.join(words))))\n",
    "stoi = {s:i+1 for i,s in enumerate(chars)}\n",
    "stoi['.'] = 0\n",
    "itos = {i:s for s,i in stoi.items()}\n",
    "print(itos)"
   ]
  },
  {
   "cell_type": "code",
   "execution_count": 94,
   "id": "3da5fd55-eabb-4db4-b159-90d4aa12a4e6",
   "metadata": {},
   "outputs": [],
   "source": [
    "# build the dataset\n",
    "block_size = 3 # context length: how many characters do we take to predict the next one?\n",
    "X, Y = [],[]\n",
    "for w in words:\n",
    "    context = [0] * block_size\n",
    "    for ch in w + '.':\n",
    "        ix = stoi[ch]\n",
    "        X.append(context)\n",
    "        Y.append(ix)\n",
    "        #print(''.join(itos[i] for i in context), '--->', itos[ix])\n",
    "        context = context[1:] + [ix] # crop and append\n",
    "\n",
    "X = torch.tensor(X)\n",
    "Y = torch.tensor(Y)"
   ]
  },
  {
   "cell_type": "code",
   "execution_count": 7,
   "id": "0b890441-6656-448c-8c02-3b4c75a3ef57",
   "metadata": {},
   "outputs": [
    {
     "data": {
      "text/plain": [
       "(torch.Size([32, 3]), torch.int64, torch.Size([32]), torch.int64)"
      ]
     },
     "execution_count": 7,
     "metadata": {},
     "output_type": "execute_result"
    }
   ],
   "source": [
    "X.shape, X.dtype, Y.shape, Y.dtype"
   ]
  },
  {
   "cell_type": "markdown",
   "id": "1732a802-8ca8-410d-a3ce-2baf2dec4d2a",
   "metadata": {},
   "source": [
    "## Building the Look Up table C\n",
    "In the paper, they have 17,000 words, and cram them into a 30 dimensional space. Since we only have 27 characters, we can first try cramming them into a 2d space. "
   ]
  },
  {
   "cell_type": "code",
   "execution_count": 11,
   "id": "cdabf3dd-edf8-4f00-85df-948335ec591f",
   "metadata": {},
   "outputs": [],
   "source": [
    "C = torch.randn((27,2)) # 27 characters, 2 columns"
   ]
  },
  {
   "cell_type": "code",
   "execution_count": 13,
   "id": "482327b5-140b-4682-bb58-eb8112c5124f",
   "metadata": {},
   "outputs": [
    {
     "data": {
      "text/plain": [
       "tensor([0.0067, 0.0224])"
      ]
     },
     "execution_count": 13,
     "metadata": {},
     "output_type": "execute_result"
    }
   ],
   "source": [
    "C[5]"
   ]
  },
  {
   "cell_type": "markdown",
   "id": "ab2a7eec-88c1-4012-8180-ad3dcebd0fe9",
   "metadata": {},
   "source": [
    "In pytorch, you can simply index by using other tensors."
   ]
  },
  {
   "cell_type": "code",
   "execution_count": 25,
   "id": "c6098cb1-76c3-4818-88a3-cdd9ef2be617",
   "metadata": {},
   "outputs": [
    {
     "data": {
      "text/plain": [
       "torch.Size([32, 3, 2])"
      ]
     },
     "execution_count": 25,
     "metadata": {},
     "output_type": "execute_result"
    }
   ],
   "source": [
    "emb = C[X]\n",
    "emb.shape"
   ]
  },
  {
   "cell_type": "code",
   "execution_count": 26,
   "id": "a31b28c7-1b50-4714-9af5-df1a2d1b3480",
   "metadata": {},
   "outputs": [],
   "source": [
    "W1 = torch.randn((6, 100)) # 2 dimensional embeddings and 3 of them = 6. 100 can be anything we want it to be\n",
    "b1 = torch.randn(100)"
   ]
  },
  {
   "cell_type": "markdown",
   "id": "7dcbdec4-7a0c-45a9-a962-77df8d832724",
   "metadata": {},
   "source": [
    "We wish to simply do `emb @ W1 + b1`, however we cannot because [32,3,2] gets condensed into [96,2], which is unable to multiply with W1, which is [6,100]. We must condense `emb` to [32,6]"
   ]
  },
  {
   "cell_type": "code",
   "execution_count": 27,
   "id": "2ccdce4f-7349-4647-99d6-f0fecdadde7b",
   "metadata": {},
   "outputs": [
    {
     "ename": "RuntimeError",
     "evalue": "mat1 and mat2 shapes cannot be multiplied (96x2 and 6x100)",
     "output_type": "error",
     "traceback": [
      "\u001b[0;31m---------------------------------------------------------------------------\u001b[0m",
      "\u001b[0;31mRuntimeError\u001b[0m                              Traceback (most recent call last)",
      "Cell \u001b[0;32mIn[27], line 1\u001b[0m\n\u001b[0;32m----> 1\u001b[0m \u001b[43memb\u001b[49m\u001b[43m \u001b[49m\u001b[38;5;241;43m@\u001b[39;49m\u001b[43m \u001b[49m\u001b[43mW1\u001b[49m \u001b[38;5;241m+\u001b[39m b1\n",
      "\u001b[0;31mRuntimeError\u001b[0m: mat1 and mat2 shapes cannot be multiplied (96x2 and 6x100)"
     ]
    }
   ],
   "source": [
    "emb @ W1 + b1"
   ]
  },
  {
   "cell_type": "code",
   "execution_count": 30,
   "id": "89a67634-1b39-44a7-b52e-dddad290fd99",
   "metadata": {},
   "outputs": [
    {
     "data": {
      "text/plain": [
       "torch.Size([32, 6])"
      ]
     },
     "execution_count": 30,
     "metadata": {},
     "output_type": "execute_result"
    }
   ],
   "source": [
    "torch.cat([emb[:, 0, :], emb[:, 1, :], emb[:, 2, :]], 1).shape"
   ]
  },
  {
   "cell_type": "code",
   "execution_count": 32,
   "id": "c2040c84-4e19-47c2-ae0e-1fef66f6c095",
   "metadata": {},
   "outputs": [
    {
     "data": {
      "text/plain": [
       "torch.Size([32, 6])"
      ]
     },
     "execution_count": 32,
     "metadata": {},
     "output_type": "execute_result"
    }
   ],
   "source": [
    "# scalable with block size\n",
    "# very inefficient. creates a whole new tensor with new storage\n",
    "torch.cat(torch.unbind(emb, 1),1).shape"
   ]
  },
  {
   "cell_type": "markdown",
   "id": "eb6b8bbd-cd74-4a76-b40f-ac6bca6ead79",
   "metadata": {},
   "source": [
    "Below is a very efficient operation"
   ]
  },
  {
   "cell_type": "code",
   "execution_count": 33,
   "id": "4225abeb-8532-475b-a8cb-9e47d2f86975",
   "metadata": {},
   "outputs": [
    {
     "data": {
      "text/plain": [
       "tensor([ 0,  1,  2,  3,  4,  5,  6,  7,  8,  9, 10, 11, 12, 13, 14, 15, 16, 17])"
      ]
     },
     "execution_count": 33,
     "metadata": {},
     "output_type": "execute_result"
    }
   ],
   "source": [
    "a = torch.arange(18)\n",
    "a"
   ]
  },
  {
   "cell_type": "code",
   "execution_count": 39,
   "id": "14c44cd1-2034-4318-ba4a-a39d92659916",
   "metadata": {},
   "outputs": [
    {
     "data": {
      "text/plain": [
       "tensor([[[ 0,  1],\n",
       "         [ 2,  3],\n",
       "         [ 4,  5]],\n",
       "\n",
       "        [[ 6,  7],\n",
       "         [ 8,  9],\n",
       "         [10, 11]],\n",
       "\n",
       "        [[12, 13],\n",
       "         [14, 15],\n",
       "         [16, 17]]])"
      ]
     },
     "execution_count": 39,
     "metadata": {},
     "output_type": "execute_result"
    }
   ],
   "source": [
    "a.view(3,3,2)"
   ]
  },
  {
   "cell_type": "code",
   "execution_count": 52,
   "id": "9479fd86-ab46-49b2-b4f5-79b1641af7fb",
   "metadata": {},
   "outputs": [],
   "source": [
    "# hidden layer \n",
    "h = torch.tanh(emb.view(-1,6) @ W1 + b1) # look at the broadcasting for the + operation!"
   ]
  },
  {
   "cell_type": "code",
   "execution_count": 53,
   "id": "bf6da14f-a7b6-4704-811f-30e712746a5a",
   "metadata": {},
   "outputs": [
    {
     "data": {
      "text/plain": [
       "torch.Size([32, 100])"
      ]
     },
     "execution_count": 53,
     "metadata": {},
     "output_type": "execute_result"
    }
   ],
   "source": [
    "h.shape"
   ]
  },
  {
   "cell_type": "code",
   "execution_count": 51,
   "id": "94cebfec-01de-4a9e-922b-dc7ebd944706",
   "metadata": {},
   "outputs": [
    {
     "data": {
      "text/plain": [
       "tensor([[ 0.7728,  0.8742, -0.9810,  ...,  0.0710,  0.2884,  0.7848],\n",
       "        [ 0.8686, -0.4247, -0.9786,  ..., -0.3009,  0.7894, -0.3638],\n",
       "        [ 0.9618, -0.9206, -0.9214,  ..., -0.3502,  0.8768,  0.2458],\n",
       "        ...,\n",
       "        [-0.9597,  0.9883,  0.7519,  ..., -0.9713,  0.9058, -1.0000],\n",
       "        [ 1.0000, -0.9996, -0.9994,  ...,  0.9322,  0.9766,  0.9255],\n",
       "        [-0.9962,  0.6516,  0.9970,  ..., -0.6069, -0.0959, -0.8234]])"
      ]
     },
     "execution_count": 51,
     "metadata": {},
     "output_type": "execute_result"
    }
   ],
   "source": [
    "h"
   ]
  },
  {
   "cell_type": "code",
   "execution_count": 54,
   "id": "afd173fe-53b3-46d3-b71c-2f4a1bd45147",
   "metadata": {},
   "outputs": [],
   "source": [
    "W2 = torch.randn((100,27))\n",
    "b2 = torch.randn(27)"
   ]
  },
  {
   "cell_type": "code",
   "execution_count": 55,
   "id": "7443fe8e-3b7a-4988-8164-09e082fa9177",
   "metadata": {},
   "outputs": [],
   "source": [
    "logits = h @ W2 + b2"
   ]
  },
  {
   "cell_type": "code",
   "execution_count": 56,
   "id": "939c7208-9dc5-45f3-9739-8f84fd5dd376",
   "metadata": {},
   "outputs": [
    {
     "data": {
      "text/plain": [
       "torch.Size([32, 27])"
      ]
     },
     "execution_count": 56,
     "metadata": {},
     "output_type": "execute_result"
    }
   ],
   "source": [
    "logits.shape"
   ]
  },
  {
   "cell_type": "code",
   "execution_count": 58,
   "id": "b3d34403-6341-442a-8293-c20be8fe3961",
   "metadata": {},
   "outputs": [],
   "source": [
    "counts = logits.exp()"
   ]
  },
  {
   "cell_type": "code",
   "execution_count": 64,
   "id": "d18db50f-6959-478a-badd-ab386942ebcc",
   "metadata": {},
   "outputs": [],
   "source": [
    "prob = counts / counts.sum(1, keepdims=True)"
   ]
  },
  {
   "cell_type": "code",
   "execution_count": 65,
   "id": "a207448c-b26b-4c8c-ab8b-02c0216c9cca",
   "metadata": {},
   "outputs": [
    {
     "data": {
      "text/plain": [
       "torch.Size([32, 27])"
      ]
     },
     "execution_count": 65,
     "metadata": {},
     "output_type": "execute_result"
    }
   ],
   "source": [
    "prob.shape"
   ]
  },
  {
   "cell_type": "code",
   "execution_count": 73,
   "id": "4fd18474-b192-4220-a584-825a7376a67e",
   "metadata": {},
   "outputs": [
    {
     "data": {
      "text/plain": [
       "tensor(16.3318)"
      ]
     },
     "execution_count": 73,
     "metadata": {},
     "output_type": "execute_result"
    }
   ],
   "source": [
    "loss = -prob[torch.arange(32), Y].log().mean()\n",
    "loss"
   ]
  },
  {
   "cell_type": "markdown",
   "id": "03fae3ee-aa66-4afe-aa64-755044a60312",
   "metadata": {},
   "source": [
    "## What we have so far"
   ]
  },
  {
   "cell_type": "code",
   "execution_count": 208,
   "id": "9a8c08fa-7aa1-4156-a92f-9be2d3b6f4bb",
   "metadata": {},
   "outputs": [
    {
     "data": {
      "text/plain": [
       "(torch.Size([228146, 3]), torch.Size([228146]))"
      ]
     },
     "execution_count": 208,
     "metadata": {},
     "output_type": "execute_result"
    }
   ],
   "source": [
    "X.shape, Y.shape"
   ]
  },
  {
   "cell_type": "code",
   "execution_count": 259,
   "id": "f0849afa-c230-47e2-b38f-007826257ca3",
   "metadata": {},
   "outputs": [],
   "source": [
    "g = torch.Generator().manual_seed(2147483647)\n",
    "C = torch.randn((27,10), generator=g) # 10 dimensional embeddings\n",
    "W1 = torch.randn((30,200), generator=g)\n",
    "b1 = torch.randn(200, generator=g)\n",
    "W2 = torch.randn((200,27), generator=g)\n",
    "b2 = torch.randn(27, generator=g)\n",
    "parameters = [C, W1, b1, W2, b2]"
   ]
  },
  {
   "cell_type": "code",
   "execution_count": 260,
   "id": "fbd8d93f-872e-4e3f-9553-aadb3fe1504b",
   "metadata": {},
   "outputs": [
    {
     "data": {
      "text/plain": [
       "11897"
      ]
     },
     "execution_count": 260,
     "metadata": {},
     "output_type": "execute_result"
    }
   ],
   "source": [
    "sum(p.nelement() for p in parameters)"
   ]
  },
  {
   "cell_type": "code",
   "execution_count": 261,
   "id": "52f2908d-e890-482e-a81a-b019a17c4e41",
   "metadata": {},
   "outputs": [],
   "source": [
    "for p in parameters:\n",
    "    p.requires_grad = True"
   ]
  },
  {
   "cell_type": "markdown",
   "id": "834a32e9-37d3-4da1-8adf-3505e373eb2c",
   "metadata": {},
   "source": [
    "Currently, we are overfitting for 32 examples, with 3481 parameters, so loss is quite low, but never 0. This is because the first character can be either an i, a or s. This makes it basically impossible to predict, however we are able to predict the intermediate characters quite well. "
   ]
  },
  {
   "cell_type": "markdown",
   "id": "1a86fd23-0aec-47a6-bff9-a208c9135d6b",
   "metadata": {},
   "source": [
    "How do we determine a good learning rate? "
   ]
  },
  {
   "cell_type": "code",
   "execution_count": 262,
   "id": "1c3e969d-74f9-419d-af2b-10d1d3a737f5",
   "metadata": {},
   "outputs": [],
   "source": [
    "# creates 1000 numbers between 0.001 and 1\n",
    "lre = torch.linspace(-3, 0, 1000) # learning rate exponent\n",
    "lrs = 10**lre"
   ]
  },
  {
   "cell_type": "code",
   "execution_count": 164,
   "id": "2cad3849-ee38-4b00-8eb8-97b25e7daf9e",
   "metadata": {},
   "outputs": [
    {
     "data": {
      "text/plain": [
       "[<matplotlib.lines.Line2D at 0x11e868830>]"
      ]
     },
     "execution_count": 164,
     "metadata": {},
     "output_type": "execute_result"
    },
    {
     "data": {
      "image/png": "[encoded data removed]",
      "text/plain": [
       "<Figure size 640x480 with 1 Axes>"
      ]
     },
     "metadata": {},
     "output_type": "display_data"
    }
   ],
   "source": [
    "# plots the learning rate exponent \n",
    "plt.plot(lri,lossi)"
   ]
  },
  {
   "cell_type": "code",
   "execution_count": 263,
   "id": "d5f1e948-ff85-4a96-8bc4-784f571c8d32",
   "metadata": {},
   "outputs": [],
   "source": [
    "lri = []\n",
    "lossi = []\n",
    "stepi = []"
   ]
  },
  {
   "cell_type": "code",
   "execution_count": 273,
   "id": "df1cc4e1-e835-49d7-b98b-f1a4c6bb292a",
   "metadata": {},
   "outputs": [
    {
     "name": "stdout",
     "output_type": "stream",
     "text": [
      "2.2699973583221436\n"
     ]
    }
   ],
   "source": [
    "for i in range(50000):\n",
    "    # mini batch construct\n",
    "    ix = torch.randint(0, Xtr.shape[0], (32,))\n",
    "    \n",
    "    # forward pass\n",
    "    emb = C[Xtr[ix]] # (32, 3, 2)\n",
    "    h = torch.tanh(emb.view(-1,30) @ W1 + b1) # (32,100)\n",
    "    logits = h @ W2 + b2 # (32,27)\n",
    "    #counts = logits.exp()\n",
    "    #prob = counts / counts.sum(1, keepdims=True)\n",
    "    #loss = -prob[torch.arange(32), Y].log().mean()\n",
    "    \n",
    "    # below is much more efficient, but equivalent to the 3 commented lines out. as well, its simpler for backpropagation\n",
    "    loss = F.cross_entropy(logits, Ytr[ix]) \n",
    "    #print(loss.item())\n",
    "    \n",
    "    # backward pass\n",
    "    for p in parameters:\n",
    "        p.grad = None\n",
    "    loss.backward()\n",
    "    \n",
    "    # update\n",
    "    # lr = lrs[i]\n",
    "    lr = 0.01\n",
    "    for p in parameters:\n",
    "        p.data += -lr * p.grad\n",
    "\n",
    "    # track stats\n",
    "    # lri.append(lre[i])\n",
    "    lossi.append(loss.log10().item())\n",
    "    stepi.append(i)\n",
    "\n",
    "print(loss.item())"
   ]
  },
  {
   "cell_type": "code",
   "execution_count": 274,
   "id": "e7db5771-ac61-445b-9b02-2a989441372a",
   "metadata": {},
   "outputs": [
    {
     "data": {
      "text/plain": [
       "[<matplotlib.lines.Line2D at 0x11f6efa10>]"
      ]
     },
     "execution_count": 274,
     "metadata": {},
     "output_type": "execute_result"
    },
    {
     "data": {
      "image/png": "[encoded data removed]",
      "text/plain": [
       "<Figure size 640x480 with 1 Axes>"
      ]
     },
     "metadata": {},
     "output_type": "display_data"
    }
   ],
   "source": [
    "plt.plot(stepi, lossi)"
   ]
  },
  {
   "cell_type": "markdown",
   "id": "38436df5-43cd-4143-9cb9-3eae577b1cfb",
   "metadata": {},
   "source": [
    "Notice the downtime between printing each loss value. Let us address this inefficiency, by creating mini batches of the entire dataset. But why? We are no longer calculating the exact gradient, but the approximate gradient. \n",
    "\n",
    "It is MUCH better to find the approximate gradient and make more steps, than it is to evaluate the exact gradient and take fewer steps. This is because it is much less computationally expensive. "
   ]
  },
  {
   "cell_type": "code",
   "execution_count": 253,
   "id": "1f3c420b-351e-497f-a0db-bf9c2aeca653",
   "metadata": {},
   "outputs": [
    {
     "data": {
      "text/plain": [
       "2.236973285675049"
      ]
     },
     "execution_count": 253,
     "metadata": {},
     "output_type": "execute_result"
    }
   ],
   "source": [
    "# Calculating the exact loss\n",
    "emb = C[Xdev] # (32, 3, 2)\n",
    "h = torch.tanh(emb.view(-1,6) @ W1 + b1) # (32,100)\n",
    "logits = h @ W2 + b2 # (32,27)\n",
    "loss = F.cross_entropy(logits, Ydev) \n",
    "loss.item()"
   ]
  },
  {
   "cell_type": "markdown",
   "id": "0345cba2-c0e7-4408-a67a-e39ddb8c7591",
   "metadata": {},
   "source": [
    "While the model may appear to be performing better (better than BiGram at least, which had 2.5), the model may be overfitting our dataset. In production, we must split the dataset into 3. The training split (80%), the dev/validation split (10%) and the test split (10%). "
   ]
  },
  {
   "cell_type": "code",
   "execution_count": 196,
   "id": "bce6f5a5-5a86-4070-a27d-6d62ec822c13",
   "metadata": {},
   "outputs": [
    {
     "name": "stdout",
     "output_type": "stream",
     "text": [
      "torch.Size([182437, 3]) torch.Size([182437])\n",
      "torch.Size([22781, 3]) torch.Size([22781])\n",
      "torch.Size([22928, 3]) torch.Size([22928])\n"
     ]
    }
   ],
   "source": [
    "# build the dataset\n",
    "def build_dataset(words):\n",
    "    block_size = 3 # context length: how many characters do we take to predict the next one?\n",
    "    X, Y = [],[]\n",
    "    for w in words:\n",
    "        context = [0] * block_size\n",
    "        for ch in w + '.':\n",
    "            ix = stoi[ch]\n",
    "            X.append(context)\n",
    "            Y.append(ix)\n",
    "            context = context[1:] + [ix] # crop and append\n",
    "    \n",
    "    X = torch.tensor(X)\n",
    "    Y = torch.tensor(Y)\n",
    "    print(X.shape, Y.shape)\n",
    "    return X, Y\n",
    "\n",
    "import random\n",
    "random.seed(42)\n",
    "random.shuffle(words)\n",
    "n1 = int(0.8*len(words))\n",
    "n2 = int (0.9*len(words))\n",
    "\n",
    "Xtr, Ytr = build_dataset(words[:n1]) # training, 80%\n",
    "Xdev, Ydev = build_dataset(words[n1:n2]) # dev/validation, 10% = [n1:n2] = n2 - n1\n",
    "Xte, Yte = build_dataset(words[n2:]) # test, 10% = [n2:]"
   ]
  },
  {
   "cell_type": "code",
   "execution_count": 232,
   "id": "28c99ae6-2d52-4a0b-8e6b-f072f3800cae",
   "metadata": {},
   "outputs": [
    {
     "name": "stdout",
     "output_type": "stream",
     "text": [
      "Dev dataset loss: 2.4941234588623047\n"
     ]
    }
   ],
   "source": [
    "# Calculating the loss for the dev dataset\n",
    "emb = C[Xdev] # (32, 3, 2)\n",
    "h = torch.tanh(emb.view(-1,6) @ W1 + b1) # (32,100)\n",
    "logits = h @ W2 + b2 # (32,27)\n",
    "loss = F.cross_entropy(logits, Ydev) \n",
    "print(f\"Dev dataset loss: {loss.item()}\")"
   ]
  },
  {
   "cell_type": "code",
   "execution_count": 233,
   "id": "f3d8a46b-86d5-47f4-8844-2f2971780a18",
   "metadata": {},
   "outputs": [
    {
     "name": "stdout",
     "output_type": "stream",
     "text": [
      "Training dataset loss: 2.468315839767456\n"
     ]
    }
   ],
   "source": [
    "# Calculating the loss for the training dataset\n",
    "emb = C[Xtr] # (32, 3, 2)\n",
    "h = torch.tanh(emb.view(-1,6) @ W1 + b1) # (32,100)\n",
    "logits = h @ W2 + b2 # (32,27)\n",
    "loss = F.cross_entropy(logits, Ytr) \n",
    "print(f\"Training dataset loss: {loss.item()}\")"
   ]
  },
  {
   "cell_type": "markdown",
   "id": "31330316-3125-461f-a6fc-383e85870d40",
   "metadata": {},
   "source": [
    "We can see that our loss for both of our datasets is more or less equal. This is called underfitting. What this means is that our model isn't large enough to simply \"memorize\" the training data, thus making it overfit. Now we can make performance improvements by simply scaling up the Neural Net. \n",
    "\n",
    "Below is after we increased the amount of neurons from 100 to 300."
   ]
  },
  {
   "cell_type": "code",
   "execution_count": 254,
   "id": "c23afe62-d47f-4f30-bc1b-1e7f53b739c5",
   "metadata": {},
   "outputs": [
    {
     "name": "stdout",
     "output_type": "stream",
     "text": [
      "Dev dataset loss: 2.236973285675049\n"
     ]
    }
   ],
   "source": [
    "# Calculating the loss for the dev dataset\n",
    "emb = C[Xdev] # (32, 3, 2)\n",
    "h = torch.tanh(emb.view(-1,6) @ W1 + b1) # (32,100)\n",
    "logits = h @ W2 + b2 # (32,27)\n",
    "loss = F.cross_entropy(logits, Ydev) \n",
    "print(f\"Dev dataset loss: {loss.item()}\")"
   ]
  },
  {
   "cell_type": "code",
   "execution_count": 255,
   "id": "4e1a053b-521b-4a67-8844-605dc5c9321c",
   "metadata": {},
   "outputs": [
    {
     "name": "stdout",
     "output_type": "stream",
     "text": [
      "Training dataset loss: 2.1980414390563965\n"
     ]
    }
   ],
   "source": [
    "# Calculating the loss for the training dataset\n",
    "emb = C[Xtr] # (32, 3, 2)\n",
    "h = torch.tanh(emb.view(-1,6) @ W1 + b1) # (32,100)\n",
    "logits = h @ W2 + b2 # (32,27)\n",
    "loss = F.cross_entropy(logits, Ytr) \n",
    "print(f\"Training dataset loss: {loss.item()}\")"
   ]
  },
  {
   "cell_type": "markdown",
   "id": "df3f7339-62dd-407e-95f4-32ca5c8b9c67",
   "metadata": {},
   "source": [
    "Our increases isn't too much, so perhaps our bottleneck is now our character embeddings, which was 2. Below is code to visualize how our model embeds the characters in 2D space. \n",
    "\n",
    "Recall that the character embedding simply tells us the groupings of the most similar characters."
   ]
  },
  {
   "cell_type": "code",
   "execution_count": 257,
   "id": "ee7b2496-73ad-41dc-8eab-423e140967cb",
   "metadata": {},
   "outputs": [
    {
     "data": {
      "image/png": "[encoded data removed]",
      "text/plain": [
       "<Figure size 800x800 with 1 Axes>"
      ]
     },
     "metadata": {},
     "output_type": "display_data"
    }
   ],
   "source": [
    "plt.figure(figsize=(8,8))\n",
    "plt.scatter(C[:,0].data, C[:,1].data, s=200)\n",
    "for i in range(C.shape[0]):\n",
    "    plt.text(C[i,0].item(), C[i,1].item(), itos[i], ha=\"center\", va=\"center\", color='white')\n",
    "plt.grid('minor')"
   ]
  },
  {
   "cell_type": "code",
   "execution_count": 275,
   "id": "749a6128-ed05-4f2d-b7f7-57f4cef0771f",
   "metadata": {},
   "outputs": [
    {
     "name": "stdout",
     "output_type": "stream",
     "text": [
      "Dev dataset loss: 2.203322649002075\n"
     ]
    }
   ],
   "source": [
    "# Calculating the loss for the dev dataset\n",
    "emb = C[Xdev] # (32, 3, 2)\n",
    "h = torch.tanh(emb.view(-1,30) @ W1 + b1) # (32,100)\n",
    "logits = h @ W2 + b2 # (32,27)\n",
    "loss = F.cross_entropy(logits, Ydev) \n",
    "print(f\"Dev dataset loss: {loss.item()}\")"
   ]
  },
  {
   "cell_type": "code",
   "execution_count": 276,
   "id": "90f4511d-8439-47a4-a483-bb2e3a0bacae",
   "metadata": {},
   "outputs": [
    {
     "name": "stdout",
     "output_type": "stream",
     "text": [
      "Training dataset loss: 2.160154342651367\n"
     ]
    }
   ],
   "source": [
    "# Calculating the loss for the training dataset\n",
    "emb = C[Xtr] # (32, 3, 2)\n",
    "h = torch.tanh(emb.view(-1,30) @ W1 + b1) # (32,100)\n",
    "logits = h @ W2 + b2 # (32,27)\n",
    "loss = F.cross_entropy(logits, Ytr) \n",
    "print(f\"Training dataset loss: {loss.item()}\")"
   ]
  },
  {
   "cell_type": "markdown",
   "id": "be754da4-fd0b-4d85-96f9-cc4e245028f6",
   "metadata": {},
   "source": [
    "## Challenge: Beat Karpathy's loss value by fine tuning the model\n",
    "He achieved a loss of 2.17 for the dev set. Try to change the values of the model such that the loss value will be lower. "
   ]
  },
  {
   "cell_type": "code",
   "execution_count": 294,
   "id": "966c622f-c7cd-4705-a119-1f19a372bac9",
   "metadata": {},
   "outputs": [],
   "source": [
    "neuron_count = 400\n",
    "embedding_dimension = 14\n",
    "inputs = embedding_dimension * 3 # because the neural net always takes 3 inputs, so we multiply by 3 for inputs towards the hidden layer\n",
    "steps = 300000\n",
    "\n",
    "g = torch.Generator().manual_seed(2147483647)\n",
    "C = torch.randn((27,embedding_dimension), generator=g) # 10 dimensional embeddings\n",
    "W1 = torch.randn((inputs,neuron_count), generator=g)\n",
    "b1 = torch.randn(neuron_count, generator=g)\n",
    "W2 = torch.randn((neuron_count,27), generator=g)\n",
    "b2 = torch.randn(27, generator=g)\n",
    "parameters = [C, W1, b1, W2, b2]\n",
    "\n",
    "for p in parameters:\n",
    "    p.requires_grad = True"
   ]
  },
  {
   "cell_type": "code",
   "execution_count": 295,
   "id": "178e3464-8247-4273-bb24-3efa83a23e79",
   "metadata": {},
   "outputs": [
    {
     "name": "stdout",
     "output_type": "stream",
     "text": [
      "1.9699676036834717\n"
     ]
    }
   ],
   "source": [
    "for i in range(steps):\n",
    "    # mini batch construct\n",
    "    ix = torch.randint(0, Xtr.shape[0], (200,))\n",
    "    \n",
    "    # forward pass\n",
    "    emb = C[Xtr[ix]]\n",
    "    h = torch.tanh(emb.view(-1,inputs) @ W1 + b1)\n",
    "    logits = h @ W2 + b2\n",
    "    loss = F.cross_entropy(logits, Ytr[ix]) \n",
    "    \n",
    "    # backward pass\n",
    "    for p in parameters:\n",
    "        p.grad = None\n",
    "    loss.backward()\n",
    "    \n",
    "    # crappy learning rate decay\n",
    "    if (i < 100000):\n",
    "        lr = 0.1\n",
    "    elif (i < 200000):\n",
    "        lr = 0.01\n",
    "    elif (i < 300000): \n",
    "        lr = 0.005\n",
    "    else:\n",
    "        lr = 0.0005\n",
    "    for p in parameters:\n",
    "        p.data += -lr * p.grad\n",
    "\n",
    "    # track stats\n",
    "    # lri.append(lre[i])\n",
    "    lossi.append(loss.log10().item())\n",
    "    stepi.append(i)\n",
    "\n",
    "print(loss.item())"
   ]
  },
  {
   "cell_type": "code",
   "execution_count": 296,
   "id": "8005cb71-18de-4591-be19-6b1d83c6af9c",
   "metadata": {},
   "outputs": [
    {
     "name": "stdout",
     "output_type": "stream",
     "text": [
      "Dev dataset loss: 2.1503283977508545\n"
     ]
    }
   ],
   "source": [
    "# Calculating the loss for the dev dataset\n",
    "emb = C[Xdev]\n",
    "h = torch.tanh(emb.view(-1,inputs) @ W1 + b1)\n",
    "logits = h @ W2 + b2\n",
    "loss = F.cross_entropy(logits, Ydev) \n",
    "print(f\"Dev dataset loss: {loss.item()}\")"
   ]
  },
  {
   "cell_type": "markdown",
   "id": "72ec4548-e4fd-4b46-a693-a024e84a9b0e",
   "metadata": {},
   "source": [
    "We got a loss of 2.15! All I did was simply:\n",
    "1. Increase amount of neurons\n",
    "2. Increase the embedding dimension\n",
    "3. Increased the mini-batch size\n",
    "4. Optimized the learning rate decay"
   ]
  },
  {
   "cell_type": "markdown",
   "id": "2a329a3b-df8f-4a91-a491-847561ab53bd",
   "metadata": {},
   "source": [
    "### Sampling"
   ]
  },
  {
   "cell_type": "code",
   "execution_count": 298,
   "id": "d416f081-e553-4c5a-aca9-ad5f55110c81",
   "metadata": {},
   "outputs": [
    {
     "name": "stdout",
     "output_type": "stream",
     "text": [
      "carmah.\n",
      "amelle.\n",
      "khyrmin.\n",
      "reety.\n",
      "ska.\n",
      "sane.\n",
      "rah.\n",
      "bradeliah.\n",
      "jarquil.\n",
      "ramari.\n",
      "chaily.\n",
      "kaleigh.\n",
      "ham.\n",
      "join.\n",
      "quinthonoveri.\n",
      "jadis.\n",
      "waterri.\n",
      "jarynix.\n",
      "kaellivran.\n",
      "edde.\n",
      "isa.\n",
      "gian.\n",
      "jasri.\n",
      "alpan.\n",
      "benjiksyn.\n",
      "pamboton.\n",
      "ajanel.\n",
      "calairae.\n",
      "ekrisa.\n",
      "luco.\n"
     ]
    }
   ],
   "source": [
    "g = torch.Generator().manual_seed(2147483647 + 10)\n",
    "\n",
    "for _ in range(30):\n",
    "    out = []\n",
    "    context = [0] * block_size\n",
    "    while True:\n",
    "        emb = C[torch.tensor([context])]\n",
    "        h = torch.tanh(emb.view(1,-1)@ W1 + b1)\n",
    "        logits = h @ W2 + b2\n",
    "        probs = F.softmax(logits, dim=1)\n",
    "        ix = torch.multinomial(probs, num_samples=1, generator=g).item()\n",
    "        context = context[1:] + [ix]\n",
    "        out.append(ix)\n",
    "        if ix == 0:\n",
    "            break\n",
    "\n",
    "    print(''.join(itos[i] for i in out))"
   ]
  },
  {
   "cell_type": "markdown",
   "id": "c7bdd7d8-68df-4dd3-a8c8-a4c70386abb4",
   "metadata": {},
   "source": [
    "Not too bad. Notice how the model picked up on how 'q' is always followed by a 'u'. Some of the names make sense, but a majority do not. We could definitely do better. "
   ]
  },
  {
   "cell_type": "code",
   "execution_count": null,
   "id": "043c99a9-32ec-422a-8791-83e833ed7241",
   "metadata": {},
   "outputs": [],
   "source": []
  }
 ],
 "metadata": {
  "kernelspec": {
   "display_name": "Python 3 (ipykernel)",
   "language": "python",
   "name": "python3"
  },
  "language_info": {
   "codemirror_mode": {
    "name": "ipython",
    "version": 3
   },
   "file_extension": ".py",
   "mimetype": "text/x-python",
   "name": "python",
   "nbconvert_exporter": "python",
   "pygments_lexer": "ipython3",
   "version": "3.12.4"
  }
 },
 "nbformat": 4,
 "nbformat_minor": 5
}
